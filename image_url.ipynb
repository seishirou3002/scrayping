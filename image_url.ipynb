{
  "nbformat": 4,
  "nbformat_minor": 0,
  "metadata": {
    "colab": {
      "name": "image_url.ipynb",
      "version": "0.3.2",
      "provenance": [],
      "collapsed_sections": [],
      "include_colab_link": true
    },
    "kernelspec": {
      "name": "python3",
      "display_name": "Python 3"
    }
  },
  "cells": [
    {
      "cell_type": "markdown",
      "metadata": {
        "id": "view-in-github",
        "colab_type": "text"
      },
      "source": [
        "<a href=\"https://colab.research.google.com/github/seishirou3002/scrayping/blob/master/image_url.ipynb\" target=\"_parent\"><img src=\"https://colab.research.google.com/assets/colab-badge.svg\" alt=\"Open In Colab\"/></a>"
      ]
    },
    {
      "metadata": {
        "id": "cOhzsZz9-D_m",
        "colab_type": "code",
        "colab": {
          "base_uri": "https://localhost:8080/",
          "height": 54
        },
        "outputId": "72957c8a-4796-4bf8-b160-fffc41a6aa72"
      },
      "cell_type": "code",
      "source": [
        "from selenium import webdriver\n",
        "from selenium.webdriver.chrome.options import Options\n",
        "from bs4 import BeautifulSoup\n",
        "\n",
        "def webdriver_google(URL):\n",
        "  options = webdriver.ChromeOptions()\n",
        "  options.add_argument('--headless')\n",
        "  options.add_argument('--no-sandbox')\n",
        "  options.add_argument('--disable-dev-shm-usage')\n",
        "  driver = webdriver.Chrome('chromedriver',options=options)\n",
        "  driver.implicitly_wait(10)\n",
        "\n",
        "  #googleの画像検索のURLを取得\n",
        "  driver.get(\"https://www.google.co.jp/imghp?hl=ja&tab=wi\")\n",
        "\n",
        "  #画像で検索ボタンをクリック\n",
        "  img_search_botton = driver.find_element_by_class_name(\"S3Wjs\")\n",
        "  img_search_botton.click()\n",
        "\n",
        "  #画像のURL貼り付けにURLを入力\n",
        "  search_box = driver.find_element_by_name(\"image_url\")\n",
        "  search_box.send_keys(URL)\n",
        "  search_box.submit()\n",
        "  \n",
        "  #取得したデータからURLのみをリストに加える\n",
        "  html = driver.page_source.encode('utf-8')\n",
        "  soup = BeautifulSoup(html, \"html.parser\")\n",
        "  tmpData = soup.select('.r > a')\n",
        "  \n",
        "  urlList = []\n",
        "  for i in range(len(tmpData)):\n",
        "    tmpList = tmpData[i].get('href').replace('/url?q=','')\n",
        "    urlList.append(tmpList)\n",
        "    \n",
        "  driver.close()\n",
        "  return urlList;\n",
        "\n",
        "urlList = webdriver_google('https://xn--jywq5uqwqxhd2onsij.jp/img/sample.jpg')\n",
        "print(urlList)"
      ],
      "execution_count": 16,
      "outputs": [
        {
          "output_type": "stream",
          "text": [
            "['https://en.wikipedia.org/wiki/Colorfulness', 'https://translate.google.co.jp/translate?hl=ja&sl=en&u=https://en.wikipedia.org/wiki/Colorfulness&prev=search', 'https://www.thesaurus.com/browse/colorfulness', 'https://translate.google.co.jp/translate?hl=ja&sl=en&u=https://www.thesaurus.com/browse/colorfulness&prev=search', 'http://softsate.info/entry46.html', 'http://maple-leafe.jp/travel/cruise/5/', 'http://maple-leafe.jp/travel/cruise/', 'http://maple-leafe.jp/tour/kakuyasu/']\n"
          ],
          "name": "stdout"
        }
      ]
    },
    {
      "metadata": {
        "id": "_28kkgvpdrvK",
        "colab_type": "code",
        "colab": {}
      },
      "cell_type": "code",
      "source": [
        ""
      ],
      "execution_count": 0,
      "outputs": []
    }
  ]
}